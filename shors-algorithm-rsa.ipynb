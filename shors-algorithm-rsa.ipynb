{
 "cells": [
  {
   "cell_type": "markdown",
   "id": "8eb13047",
   "metadata": {},
   "source": [
    "## 1. Intro : Breaking RSA encryption and Order Finding\n",
    "\n",
    "- Goal: Demonstrate how RSA encryption can be broken with a quantum computer (with Shor's algorithm) and compare it to classical methods.\n",
    "- In RSA, factoring the product of two primes becomes feasible once we find the order of a co-prime number a modulo n. In Quantum Computing, Shor's algorithm enables this through quantum phase estimation (QPE).\n"
   ]
  },
  {
   "cell_type": "markdown",
   "id": "d3dc2446",
   "metadata": {},
   "source": [
    "# Python Imports"
   ]
  },
  {
   "cell_type": "code",
   "execution_count": 42,
   "id": "25821e0c",
   "metadata": {},
   "outputs": [],
   "source": [
    "from math import gcd\n",
    "import math\n",
    "from fractions import Fraction\n",
    "import pandas as pd\n",
    "import numpy as np\n",
    "import time\n",
    "\n",
    "# Quantum Programming\n",
    "from qiskit import QuantumCircuit\n",
    "from qiskit_aer import Aer\n",
    "from qiskit import transpile\n",
    "from qiskit.circuit.library import UnitaryGate\n",
    "from qiskit.circuit.library import QFT\n",
    "from qiskit.visualization import plot_histogram\n",
    "\n",
    "# Plotting (for visualization)\n",
    "from matplotlib import pyplot as plt"
   ]
  },
  {
   "cell_type": "markdown",
   "id": "4ca21999",
   "metadata": {},
   "source": [
    "## 2. Classical Order Finding (3-4 min)"
   ]
  },
  {
   "cell_type": "code",
   "execution_count": 43,
   "id": "779800d3",
   "metadata": {},
   "outputs": [
    {
     "name": "stdout",
     "output_type": "stream",
     "text": [
      "Total run-time to find order 4 of 2 mod 15 = 0.000s\n"
     ]
    }
   ],
   "source": [
    "# Adapted code from lecture 14 solution\n",
    "def classical_order_finding(a, n):\n",
    "    assert gcd(a, n) == 1\n",
    "    \n",
    "    t0 = time.time()\n",
    "    power = a\n",
    "    r = 1      \n",
    "    while power != 1:\n",
    "        r += 1\n",
    "        power = pow(power, r, n)\n",
    "        \n",
    "    t = time.time() - t0   \n",
    "    return r, t, r  # r = iteration count\n",
    "\n",
    "\"\"\"Notice:\n",
    "Order size (= power) does not correlate directly with n \n",
    "- Some large n value still yield small r\n",
    "- Below pair of numbers are picked to show \n",
    "how classical algorithm struggles when orders (iterations) get higher\n",
    "- Normally more orders ≠ proportionally more run time\n",
    "\"\"\"\n",
    "a, n = 2, 15\n",
    "r, t, _ = classical_order_finding(a, n)\n",
    "print(f\"Total run-time to find order {r} of {a} mod {n} = {t:.3f}s\")\n",
    "#for a, n in [[2, 15], [2, 1019], [2, 153488707270219], [2, 3416178076769076332873], [2, 10057227701218939403237]]:\n",
    "    #r, t = classical_order_finding(a, n)\n",
    "    #print(f\"Total run-time to find order {r} of {a} mod {n} = {t:.3f}s\")\n"
   ]
  },
  {
   "cell_type": "code",
   "execution_count": 44,
   "id": "2771c67d",
   "metadata": {},
   "outputs": [
    {
     "data": {
      "text/html": [
       "<div>\n",
       "<style scoped>\n",
       "    .dataframe tbody tr th:only-of-type {\n",
       "        vertical-align: middle;\n",
       "    }\n",
       "\n",
       "    .dataframe tbody tr th {\n",
       "        vertical-align: top;\n",
       "    }\n",
       "\n",
       "    .dataframe thead th {\n",
       "        text-align: right;\n",
       "    }\n",
       "</style>\n",
       "<table border=\"1\" class=\"dataframe\">\n",
       "  <thead>\n",
       "    <tr style=\"text-align: right;\">\n",
       "      <th></th>\n",
       "      <th>sequence</th>\n",
       "    </tr>\n",
       "    <tr>\n",
       "      <th>power</th>\n",
       "      <th></th>\n",
       "    </tr>\n",
       "  </thead>\n",
       "  <tbody>\n",
       "    <tr>\n",
       "      <th>0</th>\n",
       "      <td>1</td>\n",
       "    </tr>\n",
       "    <tr>\n",
       "      <th>1</th>\n",
       "      <td>2</td>\n",
       "    </tr>\n",
       "    <tr>\n",
       "      <th>2</th>\n",
       "      <td>4</td>\n",
       "    </tr>\n",
       "    <tr>\n",
       "      <th>3</th>\n",
       "      <td>8</td>\n",
       "    </tr>\n",
       "    <tr>\n",
       "      <th>4</th>\n",
       "      <td>1</td>\n",
       "    </tr>\n",
       "    <tr>\n",
       "      <th>5</th>\n",
       "      <td>2</td>\n",
       "    </tr>\n",
       "    <tr>\n",
       "      <th>6</th>\n",
       "      <td>4</td>\n",
       "    </tr>\n",
       "    <tr>\n",
       "      <th>7</th>\n",
       "      <td>8</td>\n",
       "    </tr>\n",
       "    <tr>\n",
       "      <th>8</th>\n",
       "      <td>1</td>\n",
       "    </tr>\n",
       "    <tr>\n",
       "      <th>9</th>\n",
       "      <td>2</td>\n",
       "    </tr>\n",
       "  </tbody>\n",
       "</table>\n",
       "</div>"
      ],
      "text/plain": [
       "       sequence\n",
       "power          \n",
       "0             1\n",
       "1             2\n",
       "2             4\n",
       "3             8\n",
       "4             1\n",
       "5             2\n",
       "6             4\n",
       "7             8\n",
       "8             1\n",
       "9             2"
      ]
     },
     "execution_count": 44,
     "metadata": {},
     "output_type": "execute_result"
    }
   ],
   "source": [
    "# Use this to see the cycle (periodicity)\n",
    "def get_modular_exponentiation_sequence (a, n, max_power=10):\n",
    "    powers = np.arange(0, max_power)\n",
    "    result = [pow(a, int(r), n) for r in powers]  \n",
    "    output_df = pd.DataFrame({\"sequence\": result})\n",
    "    output_df.index.name = \"power\"\n",
    "    return output_df\n",
    "\n",
    "# Example of order of 2 mod 15\n",
    "get_modular_exponentiation_sequence(2, 15)\n",
    "#order = df[df['sequence'] == 1].index[1] # skip power=0\n",
    "#print(\"Classical order r =\", order)"
   ]
  },
  {
   "cell_type": "markdown",
   "id": "390043b0",
   "metadata": {},
   "source": [
    "## 3. Quantum Order Finding with Shor's Algorithm\n",
    "### 3.1 Overview of Shor's Algorithm\n",
    "- Step 1. Choose a random a < n such that gcd(a, n) = 1\n",
    "- Step 2. Use Quantum Phase Estimation (QPE) to find the order `r`\n",
    "- Step 3. Use classical post-processing (factorization) to extract factors (p,q)"
   ]
  },
  {
   "cell_type": "markdown",
   "id": "eb0e9294",
   "metadata": {},
   "source": [
    "### 3.2 Circuit: Modular Multiplication Gate `U`\n",
    "We define a unitary operator `U |b⟩ = |a * b mod n⟩`.\n",
    "This gate is used in the QPE circuit to encode the periodicity."
   ]
  },
  {
   "cell_type": "code",
   "execution_count": 45,
   "id": "6caf0fb3",
   "metadata": {},
   "outputs": [],
   "source": [
    "# Utility function to build U |b⟩ = |a * b mod n⟩\n",
    "def modular_multiplication_gate_U(a, n, label=None):\n",
    "    dimension = 2 ** math.ceil(math.log2(n)) # Find the smallest power of 2 >= n (2**k, k qubits)\n",
    "    U = np.zeros((dimension, dimension)) # initialize with 0s\n",
    "    \n",
    "    for b in range(n):\n",
    "      ab_mod_n = (a * b) % n\n",
    "      U[ab_mod_n, b] = 1\n",
    "      \n",
    "    # Fill rest with identity to make U unitary\n",
    "    for i in range(n, dimension):\n",
    "      U[i, i] = 1\n",
    "      \n",
    "    return UnitaryGate(U, label=label or f\"U{a} mod {n}\")"
   ]
  },
  {
   "cell_type": "code",
   "execution_count": 46,
   "id": "5390fdc7",
   "metadata": {},
   "outputs": [
    {
     "name": "stdout",
     "output_type": "stream",
     "text": [
      "The order finding circuit\n"
     ]
    },
    {
     "data": {
      "image/png": "[encoded data removed]",
      "text/plain": [
       "<Figure size 1625.27x785.944 with 1 Axes>"
      ]
     },
     "execution_count": 46,
     "metadata": {},
     "output_type": "execute_result"
    }
   ],
   "source": [
    "# Adapted code from lecture 14 excercise solution\n",
    "def qpe_order_finding_circuit(a, n, t):\n",
    "      # determin number of qubits needed\n",
    "      counting_qubits = t\n",
    "      target_qubits = math.ceil(math.log2(n)) # Enough to represent n \n",
    "      qc = QuantumCircuit(counting_qubits + target_qubits, counting_qubits)\n",
    "      \n",
    "      # Prepare target register in the eigenstate |1>\n",
    "      qc.x(counting_qubits) # Apply X gate to the least significant bit of target\n",
    "      \n",
    "      # Apply Hadamards on counting qubits \n",
    "      for qubit in range(counting_qubits):\n",
    "            qc.h(qubit)\n",
    "      \n",
    "      # Apply controlled modular multiplication gates\n",
    "      for j in range(counting_qubits):\n",
    "            exponent = 2**j\n",
    "            mod_base = pow(a, exponent, n)\n",
    "            control = j\n",
    "            target = list(range(counting_qubits, counting_qubits + target_qubits))\n",
    "            U = modular_multiplication_gate_U(mod_base, n, label=f\"U^{exponent} mod {n}\").control()\n",
    "            qc.append(U, [control] + target) \n",
    "      \n",
    "      # Apply inverse QFT\n",
    "      qc.append(QFT(counting_qubits, do_swaps=True).inverse(), range(counting_qubits))\n",
    "      \n",
    "      # Measure counting register\n",
    "      qc.measure(range(counting_qubits), range(counting_qubits))\n",
    "      \n",
    "      return qc\n",
    "\n",
    "\n",
    "# Show the circuit (how the QPE works)\n",
    "print(\"The order finding circuit\")\n",
    "qc = qpe_order_finding_circuit(a=2, n=15, t=4)\n",
    "qc.draw('mpl')"
   ]
  },
  {
   "cell_type": "markdown",
   "id": "5ba11517",
   "metadata": {},
   "source": [
    "### 3.3 Quantum Phase Estimation\n",
    "We apply QPE using the `U` gate to extract the phase, which relates to `r`."
   ]
  },
  {
   "cell_type": "code",
   "execution_count": 47,
   "id": "0fe36dc8",
   "metadata": {},
   "outputs": [],
   "source": [
    "# Build and simulate QPE circuit using Qiskit\n",
    "def quantum_order_finding(a, n, t=4):  \n",
    "    qc = qpe_order_finding_circuit(a, n, t) \n",
    "    # Simulate the quantum order finding circuit\n",
    "    shots = 100 \n",
    "    simulator = Aer.get_backend('aer_simulator') # simulate quantum circuits on a classical computer\n",
    "    qc_sim = transpile(qc, simulator)\n",
    "    result = simulator.run(qc_sim, shots=shots).result()\n",
    "    counts = result.get_counts()\n",
    "    most_common = max(counts, key=counts.get) # Find the most frequently measured bitstring (phase)\n",
    "    phase = int(most_common, 2) / 2**t # get decimal approximation of the phase\n",
    "    frac = Fraction(phase).limit_denominator(n) # convert decimal phase into s/r, using continued fractions\n",
    "    r = frac.denominator # extract r (= order of a modulo n)\n",
    "\n",
    "    return {\n",
    "        \"shots\": shots,\n",
    "        \"estimated_order\": r,\n",
    "        \"phase\": phase,\n",
    "        \"fraction\": frac,\n",
    "        \"counts\": counts,\n",
    "        \"circuit\": qc_sim\n",
    "        }"
   ]
  },
  {
   "cell_type": "markdown",
   "id": "9f149e93",
   "metadata": {},
   "source": [
    "### 3.4 Results and Visualization"
   ]
  },
  {
   "cell_type": "code",
   "execution_count": 48,
   "id": "4760d8fc",
   "metadata": {},
   "outputs": [
    {
     "name": "stdout",
     "output_type": "stream",
     "text": [
      "Result of running the circuit 100 times: \n",
      "Most common outcome: 0100\n",
      "Estimated Phase: 0.25\n",
      "Fractional Estimate: 1/4 (s/r)\n",
      "Extracted order r = 4\n"
     ]
    },
    {
     "data": {
      "image/png": "[encoded data removed]",
      "text/plain": [
       "<Figure size 640x480 with 1 Axes>"
      ]
     },
     "execution_count": 48,
     "metadata": {},
     "output_type": "execute_result"
    }
   ],
   "source": [
    "# Show the measurement(probability distribution of bitstrings) result\n",
    "res = quantum_order_finding(a=2, n=15)\n",
    "print(f\"Result of running the circuit {res['shots']} times: \")\n",
    "# Summary\n",
    "print(f\"Most common outcome: {max(res['counts'], key=res['counts'].get)}\")\n",
    "print(f\"Estimated Phase: {res['phase']}\")\n",
    "print(f\"Fractional Estimate: {res['fraction']} (s/r)\")\n",
    "print(f\"Extracted order r = {res['estimated_order']}\")\n",
    "plot_histogram(res['counts']) \n",
    "\n",
    "# Discrepancy (Limitation of QPE)\n",
    "# Result can be incorrect because we simulated with 4 qubits.(limited qubits)\n",
    "# We must verify the extimated `r` classically, and rerun the circuit"
   ]
  },
  {
   "cell_type": "markdown",
   "id": "e6364aae",
   "metadata": {},
   "source": [
    "## [Optional] 4. Classical vs Quantum Order Finding"
   ]
  },
  {
   "cell_type": "code",
   "execution_count": 49,
   "id": "7190057f",
   "metadata": {},
   "outputs": [
    {
     "name": "stdout",
     "output_type": "stream",
     "text": [
      "Total Qubits: 8\n",
      "Circuit Depth: 2078\n",
      "Gate Counts: OrderedDict({'unitary': 1094, 'cx': 1051, 'u3': 26, 'h': 6, 'cp': 6, 'measure': 4, 'diagonal': 2, 'x': 1})\n"
     ]
    }
   ],
   "source": [
    "qc = res['circuit']\n",
    "print(\"Total Qubits:\", qc.num_qubits)\n",
    "print(\"Circuit Depth:\", qc.depth())\n",
    "print(\"Gate Counts:\", qc.count_ops())"
   ]
  },
  {
   "cell_type": "code",
   "execution_count": 50,
   "id": "28162e31",
   "metadata": {},
   "outputs": [
    {
     "data": {
      "text/html": [
       "<div>\n",
       "<style scoped>\n",
       "    .dataframe tbody tr th:only-of-type {\n",
       "        vertical-align: middle;\n",
       "    }\n",
       "\n",
       "    .dataframe tbody tr th {\n",
       "        vertical-align: top;\n",
       "    }\n",
       "\n",
       "    .dataframe thead th {\n",
       "        text-align: right;\n",
       "    }\n",
       "</style>\n",
       "<table border=\"1\" class=\"dataframe\">\n",
       "  <thead>\n",
       "    <tr style=\"text-align: right;\">\n",
       "      <th></th>\n",
       "      <th>Method</th>\n",
       "      <th>Estimated Order</th>\n",
       "      <th>Runtime (s)</th>\n",
       "      <th>Iteration Count</th>\n",
       "      <th>Qubits</th>\n",
       "      <th>Gate Depth</th>\n",
       "      <th>Shots</th>\n",
       "      <th>Success Guarantee</th>\n",
       "    </tr>\n",
       "  </thead>\n",
       "  <tbody>\n",
       "    <tr>\n",
       "      <th>0</th>\n",
       "      <td>Classical</td>\n",
       "      <td>4</td>\n",
       "      <td>0.000003</td>\n",
       "      <td>4</td>\n",
       "      <td>N/A</td>\n",
       "      <td>N/A</td>\n",
       "      <td>N/A</td>\n",
       "      <td>Yes</td>\n",
       "    </tr>\n",
       "    <tr>\n",
       "      <th>1</th>\n",
       "      <td>Quantum</td>\n",
       "      <td>4</td>\n",
       "      <td>Not meaningful (100 shots)</td>\n",
       "      <td>N/A</td>\n",
       "      <td>8</td>\n",
       "      <td>2078</td>\n",
       "      <td>100</td>\n",
       "      <td>Probabilistic</td>\n",
       "    </tr>\n",
       "  </tbody>\n",
       "</table>\n",
       "</div>"
      ],
      "text/plain": [
       "      Method  Estimated Order                 Runtime (s) Iteration Count  \\\n",
       "0  Classical                4                    0.000003               4   \n",
       "1    Quantum                4  Not meaningful (100 shots)             N/A   \n",
       "\n",
       "  Qubits Gate Depth Shots Success Guarantee  \n",
       "0    N/A        N/A   N/A               Yes  \n",
       "1      8       2078   100     Probabilistic  "
      ]
     },
     "metadata": {},
     "output_type": "display_data"
    }
   ],
   "source": [
    "# Comparison\n",
    "a = 2\n",
    "n = 15\n",
    "\n",
    "# Classical\n",
    "r_classical, time_classical, iterations = classical_order_finding(a, n)\n",
    "\n",
    "# Quantum\n",
    "res_quantum = quantum_order_finding(a, n)\n",
    "r_quantum = res_quantum[\"estimated_order\"]\n",
    "n_qubits = res_quantum[\"circuit\"].num_qubits\n",
    "gate_depth = res_quantum[\"circuit\"].depth()\n",
    "\n",
    "comparison_df = pd.DataFrame([\n",
    "    {\n",
    "    \"Method\": \"Classical\",\n",
    "    \"Estimated Order\": r_classical,\n",
    "    \"Runtime (s)\": round(time_classical, 6),\n",
    "    \"Iteration Count\": iterations,\n",
    "    \"Qubits\": \"N/A\",\n",
    "    \"Gate Depth\": \"N/A\",\n",
    "    \"Shots\": \"N/A\",\n",
    "    \"Success Guarantee\": \"Yes\"\n",
    "    }, \n",
    "    {\n",
    "    \"Method\": \"Quantum\",\n",
    "    \"Estimated Order\": r_quantum,\n",
    "    \"Runtime (s)\": \"Not meaningful (100 shots)\",\n",
    "    \"Iteration Count\": \"N/A\",\n",
    "    \"Qubits\": n_qubits,\n",
    "    \"Gate Depth\": gate_depth,\n",
    "    \"Shots\": 100,\n",
    "    \"Success Guarantee\": \"Probabilistic\"\n",
    "    }\n",
    "])\n",
    "\n",
    "display(comparison_df)\n"
   ]
  },
  {
   "cell_type": "markdown",
   "id": "7c242781",
   "metadata": {},
   "source": [
    "## [Optional] 5. Classical post processing to find factors\n",
    "After we found order r, we can continue to find factors (p, q) with classical factorization (Shor's algorithm - step 3)"
   ]
  },
  {
   "cell_type": "code",
   "execution_count": 51,
   "id": "7d9407a4",
   "metadata": {},
   "outputs": [
    {
     "name": "stdout",
     "output_type": "stream",
     "text": [
      "Retrieved factors: p = 3, q = 5\n"
     ]
    }
   ],
   "source": [
    "res = quantum_order_finding(a=2, n=15)\n",
    "r = res[\"estimated_order\"]\n",
    "\n",
    "# Try factoring to find factor p & q\n",
    "p = gcd(pow(a, r // 2) - 1, n)\n",
    "q = gcd(pow(a, r // 2) + 1, n)\n",
    "\n",
    "print(f\"Retrieved factors: p = {p}, q = {q}\")"
   ]
  },
  {
   "cell_type": "markdown",
   "id": "0099f73c",
   "metadata": {},
   "source": [
    "## 6. Conlusion: Limitation and Final Thoughts (1 min)\n",
    "RSA encryption is **theoretically breakable** using quantum computing via Shor's algorithm, which finds the order `r` of a number `a` modulo `n`. Our simulation demonstrated QPE can extrct the phace and convert it into `r` via continued fractions.\n",
    "\n",
    "However, real-world RSA encryption (e.g., 2048-bit keys) is still safe today duo to major quantum hardware limitations: \n",
    "\n",
    "- **Qubit Count** : Large-scale order finding requires thousands of logical qubits. Today's device support only ~100 noisy qubits.\n",
    "- **Coherence Tme** : Quantum lose their quantum state quickly (microseconds), while Shor's circuits are deep and long.\n",
    "- **Gate Fidelity** : Imperfect gates causes accumulated errors. Modular multiplication involves many layers of Unitary and CNOT(cx) gates.\n",
    "\n",
    "These challenges make it currently **impractical to run Shor's algorithm on quantum computers.**\n",
    "\n",
    "As hardware improves, **error correction** and **fault-tolerant quantum computing** may help overcom these barriers.\n",
    "\n",
    "At the same time, reserch in **Post-quantum cryptography** is also developing new encryption methods that are resistant to quantum attacks.\n",
    "\n",
    "In conclusion, \n",
    "- Shor's algorithm theoretically enables a quantum speedup for breaking RSA.\n",
    "- It is **not yet** a threat to real-world RSA, but that future is **approaching**."
   ]
  },
  {
   "cell_type": "markdown",
   "id": "70f06314",
   "metadata": {},
   "source": []
  }
 ],
 "metadata": {
  "kernelspec": {
   "display_name": "Python 3",
   "language": "python",
   "name": "python3"
  },
  "language_info": {
   "codemirror_mode": {
    "name": "ipython",
    "version": 3
   },
   "file_extension": ".py",
   "mimetype": "text/x-python",
   "name": "python",
   "nbconvert_exporter": "python",
   "pygments_lexer": "ipython3",
   "version": "3.13.3"
  }
 },
 "nbformat": 4,
 "nbformat_minor": 5
}
