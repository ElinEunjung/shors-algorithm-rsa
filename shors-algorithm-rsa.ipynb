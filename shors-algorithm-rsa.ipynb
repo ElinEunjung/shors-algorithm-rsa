{
 "cells": [
  {
   "cell_type": "markdown",
   "id": "8eb13047",
   "metadata": {},
   "source": [
    "## 1. Intro : Breaking RSA encryption and Order Finding\n",
    "\n",
    "*In this case, we investigate **how RSA encryption (classical asymmetric cryptography) can be broken using quantum computing**, specially with **Shor's algorithm**.*\n",
    "\n",
    "- RSA relies on the difficulty of factoring n = p × q\n",
    "- If we can find the order of a mod n, we can factor n\n",
    "- Goal: compare classical and quantum methods for order finding\n"
   ]
  },
  {
   "cell_type": "markdown",
   "id": "d3dc2446",
   "metadata": {},
   "source": [
    "# Python Imports"
   ]
  },
  {
   "cell_type": "code",
   "execution_count": 57,
   "id": "25821e0c",
   "metadata": {},
   "outputs": [],
   "source": [
    "from math import gcd\n",
    "from fractions import Fraction\n",
    "import itertools\n",
    "import pandas as pd\n",
    "import numpy as np\n",
    "import time\n",
    "\n",
    "# Quantum Programming\n",
    "import qiskit as qs\n",
    "from qiskit import QuantumCircuit\n",
    "from qiskit_aer import Aer\n",
    "from qiskit.visualization import visualize_transition\n",
    "from qiskit.circuit.library import QFT\n",
    "from qiskit.quantum_info import Statevector\n",
    "\n",
    "from IPython.display import display, clear_output, Markdown, HTML\n",
    "import ipywidgets as widgets\n",
    "\n",
    "# Plotting (for visualization)\n",
    "from matplotlib import pyplot as plt\n",
    "\n",
    "#plt.rc('text', usetex=True)\n",
    "#plt.rc('text.latex', preamble=r  '\\usepackage{braket}') #Use the bracket packege for \\ket"
   ]
  },
  {
   "cell_type": "markdown",
   "id": "4ca21999",
   "metadata": {},
   "source": [
    "## 2. Classical Order Finding (3-4 min)\n",
    "We search for the smallest positive `r` such that `a^r ≡ 1 mod n`.\n",
    "This value `r` is called the order of `a modulo n`. It is cruicial for breaking RSA using Shor's algorithm.\n",
    "We try all values of `r` starting from  and stop when `(a^r) % n == 1`.\n",
    "In this example, we try `a = 2`, `n = 15`, so we're looking for the order of 2 mod 15 (`a = 2 mod 15`) . \n",
    "- Brute-foce code (include timing or iteration count) + output (`a = 2 mod 15`)\n",
    "- Mention exponential complexity\n",
    "- Show failure for larger `n` "
   ]
  },
  {
   "cell_type": "code",
   "execution_count": 58,
   "id": "779800d3",
   "metadata": {},
   "outputs": [
    {
     "name": "stdout",
     "output_type": "stream",
     "text": [
      "Order of 2 mod 15: r = 4\n",
      "Iterations needed: 4\n",
      "Time taken: 0.000003 seconds\n"
     ]
    }
   ],
   "source": [
    "def classical_order_finding(a,n):\n",
    "    r = 1\n",
    "    remainder = a % n\n",
    "    iterations = 1\n",
    "    \n",
    "    start = time.time()\n",
    "    \n",
    "    if gcd(a,n) != 1:\n",
    "        raise ValueError(\"a and n must be coprime\")\n",
    "    \n",
    "    while remainder != 1:\n",
    "        remainder = (remainder * a) % n\n",
    "        r += 1\n",
    "        iterations += 1\n",
    "        \n",
    "    end = time.time()\n",
    "    \n",
    "    return r, iterations, end - start\n",
    "\n",
    "# Try with small value\n",
    "a = 2\n",
    "n = 15\n",
    "order, steps, duration = classical_order_finding(a, n)\n",
    "\n",
    "print(f\"Order of {a} mod {n}: r = {order}\")\n",
    "print(f\"Iterations needed: {steps}\")\n",
    "print(f\"Time taken: {duration:.6f} seconds\")"
   ]
  },
  {
   "cell_type": "markdown",
   "id": "036a4e4b",
   "metadata": {},
   "source": [
    "Try larger `n`s to see how the classical algorithm struggles"
   ]
  },
  {
   "cell_type": "code",
   "execution_count": 59,
   "id": "a627390a",
   "metadata": {},
   "outputs": [
    {
     "name": "stdout",
     "output_type": "stream",
     "text": [
      "n = 91, order = 12, iterations = 12, time = 0.000003 sec\n",
      "n = 133, order = 18, iterations = 18, time = 0.000005 sec\n",
      "n = 187, order = 40, iterations = 40, time = 0.000005 sec\n",
      "n = 221, order = 24, iterations = 24, time = 0.000002 sec\n",
      "n = 247, order = 36, iterations = 36, time = 0.000004 sec\n",
      "n = 341, order = 10, iterations = 10, time = 0.000002 sec\n",
      "n = 391, order = 88, iterations = 88, time = 0.000010 sec\n"
     ]
    }
   ],
   "source": [
    "# Caution: Order size does not correlate directly with n \n",
    "# Some large n value still yield small r\n",
    "\n",
    "list_n = [91, 133, 187, 221, 247, 341, 391]\n",
    "\n",
    "for n in list_n:\n",
    "    try: \n",
    "      r, iterations, t = classical_order_finding(2, n)\n",
    "      print(f\"n = {n}, order = {r}, iterations = {iterations}, time = {t:.6f} sec\")\n",
    "    except:\n",
    "      continue"
   ]
  },
  {
   "cell_type": "markdown",
   "id": "16850967",
   "metadata": {},
   "source": [
    "=> more iterations ≠ proportionally more time\n",
    "Why? Python's time measures not precise, CPU background task distortion, modulo operation on small integers are very fast, garbage collection, Jupyter notebook rendering interruption...\n",
    "\n",
    "Timing at this small scale is not a reliable of difficulty.\n",
    "\n",
    "Instead, we use the number of iteration (exponentiation steps) to show that classical order finding become expensive as `r` increases. \n",
    "\n",
    "For example, order of 2 mod 391 is 88 - requiring 88 multiplications - which would be infeasible for large `n`"
   ]
  },
  {
   "cell_type": "code",
   "execution_count": null,
   "id": "8e6d2b49",
   "metadata": {},
   "outputs": [
    {
     "data": {
      "text/html": [
       "<div>\n",
       "<style scoped>\n",
       "    .dataframe tbody tr th:only-of-type {\n",
       "        vertical-align: middle;\n",
       "    }\n",
       "\n",
       "    .dataframe tbody tr th {\n",
       "        vertical-align: top;\n",
       "    }\n",
       "\n",
       "    .dataframe thead th {\n",
       "        text-align: right;\n",
       "    }\n",
       "</style>\n",
       "<table border=\"1\" class=\"dataframe\">\n",
       "  <thead>\n",
       "    <tr style=\"text-align: right;\">\n",
       "      <th></th>\n",
       "      <th>n</th>\n",
       "      <th>order</th>\n",
       "    </tr>\n",
       "  </thead>\n",
       "  <tbody>\n",
       "    <tr>\n",
       "      <th>0</th>\n",
       "      <td>101</td>\n",
       "      <td>100</td>\n",
       "    </tr>\n",
       "    <tr>\n",
       "      <th>1</th>\n",
       "      <td>151</td>\n",
       "      <td>15</td>\n",
       "    </tr>\n",
       "    <tr>\n",
       "      <th>2</th>\n",
       "      <td>201</td>\n",
       "      <td>66</td>\n",
       "    </tr>\n",
       "    <tr>\n",
       "      <th>3</th>\n",
       "      <td>251</td>\n",
       "      <td>50</td>\n",
       "    </tr>\n",
       "    <tr>\n",
       "      <th>4</th>\n",
       "      <td>301</td>\n",
       "      <td>42</td>\n",
       "    </tr>\n",
       "    <tr>\n",
       "      <th>5</th>\n",
       "      <td>351</td>\n",
       "      <td>36</td>\n",
       "    </tr>\n",
       "    <tr>\n",
       "      <th>6</th>\n",
       "      <td>401</td>\n",
       "      <td>200</td>\n",
       "    </tr>\n",
       "    <tr>\n",
       "      <th>7</th>\n",
       "      <td>451</td>\n",
       "      <td>20</td>\n",
       "    </tr>\n",
       "    <tr>\n",
       "      <th>8</th>\n",
       "      <td>501</td>\n",
       "      <td>166</td>\n",
       "    </tr>\n",
       "    <tr>\n",
       "      <th>9</th>\n",
       "      <td>551</td>\n",
       "      <td>252</td>\n",
       "    </tr>\n",
       "    <tr>\n",
       "      <th>10</th>\n",
       "      <td>601</td>\n",
       "      <td>25</td>\n",
       "    </tr>\n",
       "    <tr>\n",
       "      <th>11</th>\n",
       "      <td>651</td>\n",
       "      <td>30</td>\n",
       "    </tr>\n",
       "    <tr>\n",
       "      <th>12</th>\n",
       "      <td>701</td>\n",
       "      <td>700</td>\n",
       "    </tr>\n",
       "    <tr>\n",
       "      <th>13</th>\n",
       "      <td>751</td>\n",
       "      <td>375</td>\n",
       "    </tr>\n",
       "    <tr>\n",
       "      <th>14</th>\n",
       "      <td>801</td>\n",
       "      <td>66</td>\n",
       "    </tr>\n",
       "    <tr>\n",
       "      <th>15</th>\n",
       "      <td>851</td>\n",
       "      <td>396</td>\n",
       "    </tr>\n",
       "    <tr>\n",
       "      <th>16</th>\n",
       "      <td>901</td>\n",
       "      <td>104</td>\n",
       "    </tr>\n",
       "    <tr>\n",
       "      <th>17</th>\n",
       "      <td>951</td>\n",
       "      <td>316</td>\n",
       "    </tr>\n",
       "  </tbody>\n",
       "</table>\n",
       "</div>"
      ],
      "text/plain": [
       "      n  order\n",
       "0   101    100\n",
       "1   151     15\n",
       "2   201     66\n",
       "3   251     50\n",
       "4   301     42\n",
       "5   351     36\n",
       "6   401    200\n",
       "7   451     20\n",
       "8   501    166\n",
       "9   551    252\n",
       "10  601     25\n",
       "11  651     30\n",
       "12  701    700\n",
       "13  751    375\n",
       "14  801     66\n",
       "15  851    396\n",
       "16  901    104\n",
       "17  951    316"
      ]
     },
     "metadata": {},
     "output_type": "display_data"
    },
    {
     "data": {
      "image/png": "[encoded data removed]",
      "text/plain": [
       "<Figure size 640x480 with 1 Axes>"
      ]
     },
     "metadata": {},
     "output_type": "display_data"
    }
   ],
   "source": [
    "# Dataframe + Plot \n",
    "# For order (r) vs n\n",
    "\n",
    "results = []\n",
    "\n",
    "# Only use odd n so that gcd(2,n) = 1 (they must be co-prime)\n",
    "ns = [n for n in range(101, 1000, 25)] # integer from 101 to 951, increasing by 25\n",
    "for n in ns:\n",
    "    try:\n",
    "        if gcd(2, n) != 1:\n",
    "            continue  # skip invalid inputs early\n",
    "        r, _, _ = classical_order_finding(2, n)\n",
    "        results.append({'n': n, 'order': r})\n",
    "    except:\n",
    "        continue\n",
    "\n",
    "df = pd.DataFrame(results)\n",
    "display(df)\n",
    "\n",
    "plt.plot(df['n'], df['order'], marker='o')\n",
    "plt.title(\"Order r of 2 mod n vs. n\")\n",
    "plt.xlabel(\"n\")\n",
    "plt.ylabel(\"order r\")\n",
    "plt.grid(True)\n",
    "plt.show()\n"
   ]
  },
  {
   "cell_type": "markdown",
   "id": "6647f94a",
   "metadata": {},
   "source": [
    "=> This chart shows how classical brute-force order finding behaves for increasing values of n.\n",
    "\n",
    "Even with small steps in n, the required order r — and thus the number of iterations — can jump drastically.\n",
    "\n",
    "For example, at n ≈ 700, r is 700.\n",
    "\n",
    "Since classical algorithms must try each exponent in sequence, this quickly becomes exponential.\n",
    "\n",
    "Shor’s algorithm, in contrast, finds the order in polynomial time using quantum phase estimation."
   ]
  },
  {
   "cell_type": "markdown",
   "id": "390043b0",
   "metadata": {},
   "source": [
    "## 3. Quantum Order Finding with Shor's Algorithm"
   ]
  },
  {
   "cell_type": "markdown",
   "id": "65a7a111",
   "metadata": {},
   "source": [
    "### 3.1 Overview of Shor's Algorithm (quick diagram or steps)\n",
    "1. Choose a random a < n such that gcd(a, n) = 1\n",
    "2. Use Quantum Phase Estimation (QPE) to find the order `r`\n",
    "3. Use classical post-processing to extract factors\n"
   ]
  },
  {
   "cell_type": "markdown",
   "id": "eb0e9294",
   "metadata": {},
   "source": [
    "### 3.2 Circuit: Modular Multiplication Gate `U`\n",
    "We define a unitary operator `U |b⟩ = |a * b mod n⟩`.\n",
    "This gate is used in the QPE circuit to encode the periodicity."
   ]
  },
  {
   "cell_type": "code",
   "execution_count": 61,
   "id": "5390fdc7",
   "metadata": {},
   "outputs": [],
   "source": [
    "# Placeholder: implement or load modular multiplication gate circuit\n",
    "\n",
    "# def modular_multiplication_gate(a, n):\n",
    "#     qc = QuantumCircuit(1)\n",
    "#     qc.h(0) #Add Gates\n",
    "# return qc\n",
    "# qc.draw('mpl')\n",
    "# visualize_transition(qc)"
   ]
  },
  {
   "cell_type": "markdown",
   "id": "5ba11517",
   "metadata": {},
   "source": [
    "### 3.3 Quantum Phase Estimation\n",
    "We apply QPE using the `U` gate to extract the phase, which relates to `r`.\n",
    "- Circuit diagram\n",
    "- Measurement outcome (ϕ ≈ s/r)\n",
    "- Continued fraction → r"
   ]
  },
  {
   "cell_type": "code",
   "execution_count": 62,
   "id": "0fe36dc8",
   "metadata": {},
   "outputs": [],
   "source": [
    "# Placeholder: build and simulate QPE circuit using Qiskit\n",
    "# def quantum_order_finding(a, n):\n",
    "#     ...\n",
    "# return estimated_order"
   ]
  },
  {
   "cell_type": "markdown",
   "id": "9f149e93",
   "metadata": {},
   "source": [
    "### 3.4 Results and Visualization\n",
    "Plot the measurement results and analyze the most probable output state.\n",
    "- Output: quantum circuit measured state\n",
    "- If possible: animation or histogram showing most probable states\n",
    "- Comment on success/failure, e.g., “r = 4 found in 75% of runs”"
   ]
  },
  {
   "cell_type": "code",
   "execution_count": 63,
   "id": "833a5097",
   "metadata": {},
   "outputs": [],
   "source": [
    "# Placeholder: visualize quantum measurement output (e.g., histogram)"
   ]
  },
  {
   "cell_type": "markdown",
   "id": "c831009e",
   "metadata": {},
   "source": [
    "## 4. Classical vs Quantum Order Finding\n",
    "We summarize and compare efficiency, complexity, and results.\n",
    "- Table: runtime / gate depth / success chance\n",
    "- Plot if helpful\n",
    "- Use visual to emphasize: quantum = exponential speedup"
   ]
  },
  {
   "cell_type": "code",
   "execution_count": 64,
   "id": "28162e31",
   "metadata": {},
   "outputs": [],
   "source": [
    "# Optional: create comparison table or plot\n",
    "# Data: runtime or iteration counts vs problem size"
   ]
  },
  {
   "cell_type": "markdown",
   "id": "0099f73c",
   "metadata": {},
   "source": [
    "## 5. Conlusion: Limitation and Final Thoughts (2 min)\n",
    "- RSA encryption is **theoretically breakable** using quantum computing via Shor's algorithm.\n",
    "- Why can't we break real RSA yet?\n",
    "  - Qubit count\n",
    "  - Coherence time\n",
    "  - Gate fidelity\n",
    "- Mention quantum-resistant crypto (brief)\n",
    "- Conclude: quantum is promising, but not yet at threat to real RSA"
   ]
  },
  {
   "cell_type": "markdown",
   "id": "70f06314",
   "metadata": {},
   "source": []
  }
 ],
 "metadata": {
  "kernelspec": {
   "display_name": "Python 3",
   "language": "python",
   "name": "python3"
  },
  "language_info": {
   "codemirror_mode": {
    "name": "ipython",
    "version": 3
   },
   "file_extension": ".py",
   "mimetype": "text/x-python",
   "name": "python",
   "nbconvert_exporter": "python",
   "pygments_lexer": "ipython3",
   "version": "3.13.3"
  }
 },
 "nbformat": 4,
 "nbformat_minor": 5
}
