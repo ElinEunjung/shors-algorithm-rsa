{
 "cells": [
  {
   "cell_type": "markdown",
   "id": "8eb13047",
   "metadata": {},
   "source": [
    "## Intro : address the case (Breaking RSA with Quantum Computing) and overview of the solution (1 min)\n",
    "\n",
    "*In this case, we investigate how RSA encryption (classical asymmetric cryptography) can be broken using quantum computing, specially with Shor's algorithm.*\n",
    "\n",
    "**My approach**\n",
    "- Demonstrate classical brute-force factoring (with small values of p and q)\n",
    "- Implement and visualize Shor's algorithm (with circuit diagrams for modular multiplication, QPE)\n",
    "- Compare classical vs quatum efficiency\n",
    "- Analyze current limitations of scaling quantum factorization\n",
    "  - my own visualization of quantum state evolution\n",
    "  - and/or simulated failure mode (when phase estimation is inaccurate)"
   ]
  },
  {
   "cell_type": "markdown",
   "id": "f7c2d6e8",
   "metadata": {},
   "source": [
    "## Evidence and Demonstrations : Shor's algorithm, its application and result (3-4 min)"
   ]
  },
  {
   "cell_type": "markdown",
   "id": "4ca21999",
   "metadata": {},
   "source": [
    "### Classical RSA Encryption & Brute-Force Factoring\n",
    "- definition of RSA (n = p*q)\n",
    "- brute-force factorization (include timing or iteration count)"
   ]
  },
  {
   "cell_type": "markdown",
   "id": "390043b0",
   "metadata": {},
   "source": [
    "### Overview of Shor's Algorithm\n",
    "- Flowchart of list of key stemps\n",
    "- random a, check gcd, order-finding using QPE, classical post-processing"
   ]
  },
  {
   "cell_type": "markdown",
   "id": "5ba11517",
   "metadata": {},
   "source": [
    "### Quantum Circuit for Modular Multiplication\n",
    "- Show Qiskit modular multiplication circuit\n",
    "- Mention its role as the gate U in phase estimation"
   ]
  },
  {
   "cell_type": "markdown",
   "id": "c831009e",
   "metadata": {},
   "source": [
    "### Quantum Phase Estimation (QPE)\n",
    "- Diagram of circuit\n",
    "- Include: simulation output, interpretation of measured bits, and what it tells us about `r`(order)"
   ]
  },
  {
   "cell_type": "markdown",
   "id": "2b04c8c8",
   "metadata": {},
   "source": [
    "### Results: Phase Estimation and Order-Finding\n",
    "- Plot(s) of measurement probabilities or final states\n",
    "- Clearly say: Order `r` = 4 found for a=2 mod 15\"\n",
    "- Show when it fails or is inaccurate (to highlight probabilistic nature)"
   ]
  },
  {
   "cell_type": "markdown",
   "id": "1c98fd24",
   "metadata": {},
   "source": [
    "### Visualization: Quantum State Evolution\n",
    "- show evolution (Block sphere, amplitude histogram) to supports understanding"
   ]
  },
  {
   "cell_type": "markdown",
   "id": "cf2e12fa",
   "metadata": {},
   "source": [
    "### Classical vs Quantum Comparison\n",
    "- Table or chart: time complexity (e.g., brute-force:O(√n), Shor: polylog(n))\n",
    "- Mention: how this scales, what limits today's hardware"
   ]
  },
  {
   "cell_type": "markdown",
   "id": "0099f73c",
   "metadata": {},
   "source": [
    "## Conlusion (2 min)\n",
    "- RSA encryption is theoretically breakable using quantum computing via Shor's algorithm.\n",
    "- Above mplementation correctly factor small n (n=15), demonstrating the core principles. \n",
    "- Current quantum hardware lacks enough qubits and gate fidelity to handle lange n (e.g., 2048-bit RSA keys).\n",
    "- This case underlines the urgency for quantum-proof cryptographic metholds, such as lattice-based schemes, for future security. - ref to the intelligence agency's concern"
   ]
  },
  {
   "cell_type": "markdown",
   "id": "70f06314",
   "metadata": {},
   "source": []
  },
  {
   "cell_type": "code",
   "execution_count": null,
   "id": "de98871c",
   "metadata": {},
   "outputs": [],
   "source": []
  }
 ],
 "metadata": {
  "kernelspec": {
   "display_name": "Python 3",
   "language": "python",
   "name": "python3"
  },
  "language_info": {
   "codemirror_mode": {
    "name": "ipython",
    "version": 3
   },
   "file_extension": ".py",
   "mimetype": "text/x-python",
   "name": "python",
   "nbconvert_exporter": "python",
   "pygments_lexer": "ipython3",
   "version": "3.13.3"
  }
 },
 "nbformat": 4,
 "nbformat_minor": 5
}
