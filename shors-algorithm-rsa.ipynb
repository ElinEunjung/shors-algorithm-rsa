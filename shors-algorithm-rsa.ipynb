{
 "cells": [
  {
   "cell_type": "markdown",
   "id": "8eb13047",
   "metadata": {},
   "source": [
    "## 1. Intro : Breaking RSA encryption and Order Finding\n",
    "\n",
    "*In this case, we investigate **how RSA encryption (classical asymmetric cryptography) can be broken using quantum computing**, specially with **Shor's algorithm**.*\n",
    "\n",
    "- RSA relies on the difficulty of factoring n = p × q\n",
    "- If we can find the order of a mod n, we can factor n\n",
    "- Goal: compare classical and quantum methods for order finding\n"
   ]
  },
  {
   "cell_type": "markdown",
   "id": "4ca21999",
   "metadata": {},
   "source": [
    "## 2. Classical Order Finding (3-4 min)\n",
    "We try to find the smallest `r` such that `a^r ≡ 1 mod n` using brute force.\n",
    "- Brute-foce code (include timing or iteration count) + output (`a = 2 mod 15`)\n",
    "- Mention exponential complexity\n",
    "- Show failure for larger `n` "
   ]
  },
  {
   "cell_type": "markdown",
   "id": "390043b0",
   "metadata": {},
   "source": [
    "## 3. Quantum Order Finding with Shor's Algorithm"
   ]
  },
  {
   "cell_type": "markdown",
   "id": "65a7a111",
   "metadata": {},
   "source": [
    "### 3.1 Overview of Shor's Algorithm (quick diagram or steps)\n",
    "1. Choose a random a < n such that gcd(a, n) = 1\n",
    "2. Use Quantum Phase Estimation (QPE) to find the order `r`\n",
    "3. Use classical post-processing to extract factors\n"
   ]
  },
  {
   "cell_type": "markdown",
   "id": "eb0e9294",
   "metadata": {},
   "source": [
    "### 3.2 Circuit: Modular Multiplication Gate `U`\n",
    "We define a unitary operator `U |b⟩ = |a * b mod n⟩`.\n",
    "This gate is used in the QPE circuit to encode the periodicity."
   ]
  },
  {
   "cell_type": "code",
   "execution_count": null,
   "id": "5390fdc7",
   "metadata": {},
   "outputs": [],
   "source": [
    "# Placeholder: implement or load modular multiplication gate circuit\n",
    "# from qiskit import QuantumCircuit\n",
    "# def modular_multiplication_gate(a, n):\n",
    "#     ...\n",
    "# return qc"
   ]
  },
  {
   "cell_type": "markdown",
   "id": "5ba11517",
   "metadata": {},
   "source": [
    "### 3.3 Quantum Phase Estimation\n",
    "We apply QPE using the `U` gate to extract the phase, which relates to `r`.\n",
    "- Circuit diagram\n",
    "- Measurement outcome (ϕ ≈ s/r)\n",
    "- Continued fraction → r"
   ]
  },
  {
   "cell_type": "code",
   "execution_count": null,
   "id": "0fe36dc8",
   "metadata": {},
   "outputs": [],
   "source": [
    "# Placeholder: build and simulate QPE circuit using Qiskit\n",
    "# def quantum_order_finding(a, n):\n",
    "#     ...\n",
    "# return estimated_order"
   ]
  },
  {
   "cell_type": "markdown",
   "id": "9f149e93",
   "metadata": {},
   "source": [
    "### 3.4 Results and Visualization\n",
    "Plot the measurement results and analyze the most probable output state.\n",
    "- Output: quantum circuit measured state\n",
    "- If possible: animation or histogram showing most probable states\n",
    "- Comment on success/failure, e.g., “r = 4 found in 75% of runs”"
   ]
  },
  {
   "cell_type": "code",
   "execution_count": null,
   "id": "833a5097",
   "metadata": {},
   "outputs": [],
   "source": [
    "# Placeholder: visualize quantum measurement output (e.g., histogram)"
   ]
  },
  {
   "cell_type": "markdown",
   "id": "c831009e",
   "metadata": {},
   "source": [
    "## 4. Classical vs Quantum Order Finding\n",
    "We summarize and compare efficiency, complexity, and results.\n",
    "- Table: runtime / gate depth / success chance\n",
    "- Plot if helpful\n",
    "- Use visual to emphasize: quantum = exponential speedup"
   ]
  },
  {
   "cell_type": "code",
   "execution_count": null,
   "id": "28162e31",
   "metadata": {},
   "outputs": [],
   "source": [
    "# Optional: create comparison table or plot\n",
    "# Data: runtime or iteration counts vs problem size"
   ]
  },
  {
   "cell_type": "markdown",
   "id": "0099f73c",
   "metadata": {},
   "source": [
    "## 5. Conlusion: Limitation and Final Thoughts (2 min)\n",
    "- RSA encryption is **theoretically breakable** using quantum computing via Shor's algorithm.\n",
    "- Why can't we break real RSA yet?\n",
    "  - Qubit count\n",
    "  - Coherence time\n",
    "  - Gate fidelity\n",
    "- Mention quantum-resistant crypto (brief)\n",
    "- Conclude: quantum is promising, but not yet at threat to real RSA"
   ]
  },
  {
   "cell_type": "markdown",
   "id": "70f06314",
   "metadata": {},
   "source": []
  }
 ],
 "metadata": {
  "kernelspec": {
   "display_name": "Python 3",
   "language": "python",
   "name": "python3"
  },
  "language_info": {
   "codemirror_mode": {
    "name": "ipython",
    "version": 3
   },
   "file_extension": ".py",
   "mimetype": "text/x-python",
   "name": "python",
   "nbconvert_exporter": "python",
   "pygments_lexer": "ipython3",
   "version": "3.13.3"
  }
 },
 "nbformat": 4,
 "nbformat_minor": 5
}
