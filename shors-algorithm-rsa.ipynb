{
 "cells": [
  {
   "cell_type": "markdown",
   "id": "8eb13047",
   "metadata": {},
   "source": [
    "## 1. Intro : Breaking RSA encryption and Order Finding\n",
    "\n",
    "*In this case, we investigate **how RSA encryption (classical asymmetric cryptography) can be broken using quantum computing**, specially with **Shor's algorithm**.*\n",
    "\n",
    "- RSA relies on the difficulty of factoring n = p × q\n",
    "- If we can find the order of a mod n, we can factor n\n",
    "- Goal: compare classical and quantum methods for order finding\n"
   ]
  },
  {
   "cell_type": "markdown",
   "id": "d3dc2446",
   "metadata": {},
   "source": [
    "# Python Imports"
   ]
  },
  {
   "cell_type": "code",
   "execution_count": null,
   "id": "25821e0c",
   "metadata": {},
   "outputs": [],
   "source": [
    "from math import gcd\n",
    "from fractions import Fraction\n",
    "import itertools\n",
    "import pandas as pd\n",
    "import numpy as np\n",
    "import time\n",
    "\n",
    "# Quantum Programming\n",
    "import qiskit as qs\n",
    "from qiskit import QuantumCircuit\n",
    "from qiskit_aer import Aer\n",
    "from qiskit.circuit.library import UnitaryGate\n",
    "from qiskit.circuit.library import QFT\n",
    "from qiskit.visualization import visualize_transition\n",
    "from qiskit.quantum_info import Statevector\n",
    "\n",
    "from IPython.display import display, clear_output, Markdown, HTML\n",
    "import ipywidgets as widgets\n",
    "\n",
    "# Plotting (for visualization)\n",
    "from matplotlib import pyplot as plt\n",
    "\n",
    "#plt.rc('text', usetex=True)\n",
    "#plt.rc('text.latex', preamble=r  '\\usepackage{braket}') #Use the bracket packege for \\ket"
   ]
  },
  {
   "cell_type": "markdown",
   "id": "4ca21999",
   "metadata": {},
   "source": [
    "## 2. Classical Order Finding (3-4 min)\n",
    "We search for the smallest positive `r` such that `a^r ≡ 1 mod n`.\n",
    "This value `r` is called the order of `a modulo n`. It is cruicial for breaking RSA using Shor's algorithm.\n",
    "We try all values of `r` starting from  and stop when `(a^r) % n == 1`.\n",
    "In this example, we try pair of numbers (a, n), so we're looking for the order of a mod n and see exponential complexity (include timing)"
   ]
  },
  {
   "cell_type": "code",
   "execution_count": 8,
   "id": "779800d3",
   "metadata": {},
   "outputs": [
    {
     "name": "stdout",
     "output_type": "stream",
     "text": [
      "Total run-time to find order 4 of 2 mod 15 = 0.000s\n",
      "Total run-time to find order 509 of 2 mod 1019 = 0.000s\n",
      "Total run-time to find order 219749 of 2 mod 153488707270219 = 0.584s\n",
      "Total run-time to find order 2799187 of 2 mod 3416178076769076332873 = 12.128s\n",
      "Total run-time to find order 8934907 of 2 mod 10057227701218939403237 = 57.170s\n"
     ]
    }
   ],
   "source": [
    "# Adapted code from lecture 14 solution\n",
    "def classical_order_finding(a, n):\n",
    "    assert gcd(a, n) == 1\n",
    "    \n",
    "    t0 = time.time()\n",
    "    power = a\n",
    "    r = 1      \n",
    "    while power != 1:\n",
    "        r += 1\n",
    "        power = pow(power, r, n)\n",
    "        \n",
    "    t = time.time() - t0   \n",
    "    return r, t\n",
    "\n",
    "# Caution: Order size (= power) does not correlate directly with n \n",
    "# Some large n value still yield small r\n",
    "# Below pair of numbers are picked to show how classical algorithm struggles\n",
    "# when orders (iterations) get higher\n",
    "# Normally more orders ≠ proportionally more run time\n",
    "\n",
    "for a, n in [[2, 15], [2, 1019], [2, 153488707270219], [2, 3416178076769076332873], [2, 10057227701218939403237]]:\n",
    "    r, t = classical_order_finding(a, n)\n",
    "    print(f\"Total run-time to find order {r} of {a} mod {n} = {t:.3f}s\")\n"
   ]
  },
  {
   "cell_type": "code",
   "execution_count": null,
   "id": "2771c67d",
   "metadata": {},
   "outputs": [
    {
     "data": {
      "text/html": [
       "<div>\n",
       "<style scoped>\n",
       "    .dataframe tbody tr th:only-of-type {\n",
       "        vertical-align: middle;\n",
       "    }\n",
       "\n",
       "    .dataframe tbody tr th {\n",
       "        vertical-align: top;\n",
       "    }\n",
       "\n",
       "    .dataframe thead th {\n",
       "        text-align: right;\n",
       "    }\n",
       "</style>\n",
       "<table border=\"1\" class=\"dataframe\">\n",
       "  <thead>\n",
       "    <tr style=\"text-align: right;\">\n",
       "      <th></th>\n",
       "      <th>sequence</th>\n",
       "    </tr>\n",
       "    <tr>\n",
       "      <th>power</th>\n",
       "      <th></th>\n",
       "    </tr>\n",
       "  </thead>\n",
       "  <tbody>\n",
       "    <tr>\n",
       "      <th>0</th>\n",
       "      <td>1</td>\n",
       "    </tr>\n",
       "    <tr>\n",
       "      <th>1</th>\n",
       "      <td>2</td>\n",
       "    </tr>\n",
       "    <tr>\n",
       "      <th>2</th>\n",
       "      <td>4</td>\n",
       "    </tr>\n",
       "    <tr>\n",
       "      <th>3</th>\n",
       "      <td>8</td>\n",
       "    </tr>\n",
       "    <tr>\n",
       "      <th>4</th>\n",
       "      <td>1</td>\n",
       "    </tr>\n",
       "    <tr>\n",
       "      <th>5</th>\n",
       "      <td>2</td>\n",
       "    </tr>\n",
       "    <tr>\n",
       "      <th>6</th>\n",
       "      <td>4</td>\n",
       "    </tr>\n",
       "    <tr>\n",
       "      <th>7</th>\n",
       "      <td>8</td>\n",
       "    </tr>\n",
       "    <tr>\n",
       "      <th>8</th>\n",
       "      <td>1</td>\n",
       "    </tr>\n",
       "    <tr>\n",
       "      <th>9</th>\n",
       "      <td>2</td>\n",
       "    </tr>\n",
       "  </tbody>\n",
       "</table>\n",
       "</div>"
      ],
      "text/plain": [
       "       sequence\n",
       "power          \n",
       "0             1\n",
       "1             2\n",
       "2             4\n",
       "3             8\n",
       "4             1\n",
       "5             2\n",
       "6             4\n",
       "7             8\n",
       "8             1\n",
       "9             2"
      ]
     },
     "execution_count": 16,
     "metadata": {},
     "output_type": "execute_result"
    }
   ],
   "source": [
    "# Utility function adapted from solution code of lecture 14\n",
    "# Use this to see the cycle (periodicity)\n",
    "def get_modular_exponentiation_sequence (a, n, max_power=10):\n",
    "    powers = np.arange(0, max_power)\n",
    "    result = [pow(a, int(r), n) for r in powers]  # in quantum r = k\n",
    "    output_df = pd.DataFrame({\"sequence\": result})\n",
    "    output_df.index.name = \"power\"\n",
    "    return output_df\n",
    "\n",
    "# Example of order of 2 mod 15\n",
    "get_modular_exponentiation_sequence(2, 15)\n",
    "#order = df[df['sequence'] == 1].index[1] # skip power=0\n",
    "#print(\"Classical order r =\", order)"
   ]
  },
  {
   "cell_type": "markdown",
   "id": "390043b0",
   "metadata": {},
   "source": [
    "## 3. Quantum Order Finding with Shor's Algorithm"
   ]
  },
  {
   "cell_type": "markdown",
   "id": "65a7a111",
   "metadata": {},
   "source": [
    "### 3.1 Overview of Shor's Algorithm\n",
    "1. Choose a random a < n such that gcd(a, n) = 1\n",
    "2. Use Quantum Phase Estimation (QPE) to find the order `r`\n",
    "3. Use classical post-processing to extract factors\n"
   ]
  },
  {
   "cell_type": "markdown",
   "id": "eb0e9294",
   "metadata": {},
   "source": [
    "### 3.2 Circuit: Modular Multiplication Gate `U`\n",
    "We define a unitary operator `U |b⟩ = |a * b mod n⟩`.\n",
    "This gate is used in the QPE circuit to encode the periodicity."
   ]
  },
  {
   "cell_type": "code",
   "execution_count": null,
   "id": "6caf0fb3",
   "metadata": {},
   "outputs": [],
   "source": [
    "# Utility function to build U |b⟩ = |a * b mod n⟩\n",
    "def modular_multiplication_gate_U(a, n , num_qubits):\n",
    "    dimention = 2**num_qubits\n",
    "    U = np.zeros((dimention, dimention))\n",
    "    \n",
    "    for b in range(n):\n",
    "      ab_mod_n = (a * b) % n\n",
    "      U[ab_mod_n, b] = 1\n",
    "      \n",
    "    # rest to keep unitary\n",
    "    for i in range(n, dimention):\n",
    "      U[i, i] = 1\n",
    "      \n",
    "    return UnitaryGate(U, label=f'Ux{a} mod {n}')\n",
    "    "
   ]
  },
  {
   "cell_type": "code",
   "execution_count": null,
   "id": "5390fdc7",
   "metadata": {},
   "outputs": [],
   "source": [
    "# Placeholder: implement or load modular multiplication gate circuit\n",
    "\n",
    "# def qpe_order_finding_circuit(a, n, t):\n",
    "#     qc = QuantumCircuit(t + len(bin(n)) - 2, t)\n",
    "#     # Step 1: Apply Hadamards on counting qubits\n",
    "      # Step 2: Apply Controlled modular multiplication gates\n",
    "      # Step 3: Inverse QFT\n",
    "      # Step 4: Measure counting register\n",
    "#     return qc\n",
    "# qc.draw('mpl')\n",
    "# visualize_transition(qc)"
   ]
  },
  {
   "cell_type": "markdown",
   "id": "5ba11517",
   "metadata": {},
   "source": [
    "### 3.3 Quantum Phase Estimation\n",
    "We apply QPE using the `U` gate to extract the phase, which relates to `r`.\n",
    "- Circuit diagram\n",
    "- Measurement outcome (ϕ ≈ s/r)\n",
    "- Continued fraction → r"
   ]
  },
  {
   "cell_type": "code",
   "execution_count": null,
   "id": "0fe36dc8",
   "metadata": {},
   "outputs": [],
   "source": [
    "# Placeholder: build and simulate QPE circuit using Qiskit\n",
    "# def quantum_order_finding(a, n):\n",
    "#     ...\n",
    "# return estimated_order"
   ]
  },
  {
   "cell_type": "markdown",
   "id": "9f149e93",
   "metadata": {},
   "source": [
    "### 3.4 Results and Visualization\n",
    "Plot the measurement results and analyze the most probable output state.\n",
    "- Output: quantum circuit measured state\n",
    "- If possible: animation or histogram showing most probable states\n",
    "- Comment on success/failure, e.g., “r = 4 found in 75% of runs”"
   ]
  },
  {
   "cell_type": "code",
   "execution_count": null,
   "id": "833a5097",
   "metadata": {},
   "outputs": [],
   "source": [
    "# Placeholder: visualize quantum measurement output (e.g., histogram)"
   ]
  },
  {
   "cell_type": "markdown",
   "id": "c831009e",
   "metadata": {},
   "source": [
    "## 4. Classical vs Quantum Order Finding\n",
    "We summarize and compare efficiency, complexity, and results.\n",
    "- Table: runtime / gate depth / success chance\n",
    "- Plot if helpful\n",
    "- Use visual to emphasize: quantum = exponential speedup"
   ]
  },
  {
   "cell_type": "code",
   "execution_count": null,
   "id": "28162e31",
   "metadata": {},
   "outputs": [],
   "source": [
    "# Optional: create comparison table or plot\n",
    "# Data: runtime or iteration counts vs problem size"
   ]
  },
  {
   "cell_type": "markdown",
   "id": "0099f73c",
   "metadata": {},
   "source": [
    "## 5. Conlusion: Limitation and Final Thoughts (2 min)\n",
    "- RSA encryption is **theoretically breakable** using quantum computing via Shor's algorithm.\n",
    "- Why can't we break real RSA yet?\n",
    "  - Qubit count\n",
    "  - Coherence time\n",
    "  - Gate fidelity\n",
    "- Mention quantum-resistant crypto (brief)\n",
    "- Conclude: quantum is promising, but not yet at threat to real RSA"
   ]
  },
  {
   "cell_type": "markdown",
   "id": "70f06314",
   "metadata": {},
   "source": []
  }
 ],
 "metadata": {
  "kernelspec": {
   "display_name": "Python 3",
   "language": "python",
   "name": "python3"
  },
  "language_info": {
   "codemirror_mode": {
    "name": "ipython",
    "version": 3
   },
   "file_extension": ".py",
   "mimetype": "text/x-python",
   "name": "python",
   "nbconvert_exporter": "python",
   "pygments_lexer": "ipython3",
   "version": "3.13.3"
  }
 },
 "nbformat": 4,
 "nbformat_minor": 5
}
